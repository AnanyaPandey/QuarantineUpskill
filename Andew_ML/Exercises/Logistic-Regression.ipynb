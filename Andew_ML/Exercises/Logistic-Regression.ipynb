{
 "cells": [
  {
   "cell_type": "code",
   "execution_count": 1,
   "metadata": {},
   "outputs": [],
   "source": [
    "import numpy as np\n",
    "import pandas as pd\n",
    "import matplotlib.pyplot as plt"
   ]
  },
  {
   "cell_type": "code",
   "execution_count": 2,
   "metadata": {},
   "outputs": [],
   "source": [
    "def LoadData(file,deli):\n",
    "    data = np.loadtxt(file,delimiter=deli)\n",
    "    print(\"Dimensions\",data.shape)\n",
    "    print(\"First 5 Rows : \")\n",
    "    print(data[1:5,:])\n",
    "    return(data)"
   ]
  },
  {
   "cell_type": "code",
   "execution_count": 3,
   "metadata": {},
   "outputs": [
    {
     "name": "stdout",
     "output_type": "stream",
     "text": [
      "Dimensions (100, 3)\n",
      "First 5 Rows : \n",
      "[[30.28671077 43.89499752  0.        ]\n",
      " [35.84740877 72.90219803  0.        ]\n",
      " [60.18259939 86.3085521   1.        ]\n",
      " [79.03273605 75.34437644  1.        ]]\n"
     ]
    }
   ],
   "source": [
    "data = LoadData('data/ex2data1.txt',',')"
   ]
  },
  {
   "cell_type": "code",
   "execution_count": 4,
   "metadata": {},
   "outputs": [],
   "source": [
    "X = data[:,0:2]\n",
    "y = data[:,-1]"
   ]
  },
  {
   "cell_type": "code",
   "execution_count": 5,
   "metadata": {},
   "outputs": [
    {
     "name": "stdout",
     "output_type": "stream",
     "text": [
      "X Shape (100, 2)\n",
      "y Shape (100,)\n"
     ]
    }
   ],
   "source": [
    "print(\"X Shape\",X.shape)\n",
    "print(\"y Shape\",y.shape)"
   ]
  },
  {
   "cell_type": "code",
   "execution_count": 6,
   "metadata": {},
   "outputs": [],
   "source": [
    "def InsertOnes(X):\n",
    "    return np.c_[np.ones(X.shape[0]),X]"
   ]
  },
  {
   "cell_type": "code",
   "execution_count": 7,
   "metadata": {},
   "outputs": [],
   "source": [
    "def Sigmoid(t):\n",
    "    return 1/ (1+ np.exp(-1*t))"
   ]
  },
  {
   "cell_type": "code",
   "execution_count": 8,
   "metadata": {},
   "outputs": [],
   "source": [
    "def h(theta,X):\n",
    "    return(Sigmoid(X.dot(theta)))"
   ]
  },
  {
   "cell_type": "code",
   "execution_count": 9,
   "metadata": {},
   "outputs": [],
   "source": [
    "def PlotData(X,y):\n",
    "    pos = X[y==1]\n",
    "    neg = X[y==0]\n",
    "    plt.scatter(pos[:,0],pos[:,1],marker ='o',c='black',label='Admitted')\n",
    "    plt.scatter(neg[:,0],neg[:,1],marker ='x',c='red',label='Not Admitted')\n",
    "    plt.legend(loc='lower left',frameon=False)\n",
    "    plt.figure(figsize=(12,8)) "
   ]
  },
  {
   "cell_type": "code",
   "execution_count": 10,
   "metadata": {},
   "outputs": [],
   "source": [
    "X_bias = InsertOnes(X)\n",
    "theta = np.zeros(X_bias.shape[1])"
   ]
  },
  {
   "cell_type": "code",
   "execution_count": 11,
   "metadata": {},
   "outputs": [
    {
     "data": {
      "image/png": "[encoded data removed]",
      "text/plain": [
       "<Figure size 432x288 with 1 Axes>"
      ]
     },
     "metadata": {
      "needs_background": "light"
     },
     "output_type": "display_data"
    },
    {
     "data": {
      "text/plain": [
       "<Figure size 864x576 with 0 Axes>"
      ]
     },
     "metadata": {},
     "output_type": "display_data"
    }
   ],
   "source": [
    "PlotData(X,y)"
   ]
  },
  {
   "cell_type": "code",
   "execution_count": 12,
   "metadata": {},
   "outputs": [],
   "source": [
    "#def CostFunction(X,y,theta):\n",
    "#    m = X.shape[0]\n",
    "#    J = (1/m)*np.sum( -y*np.log(h(X,theta)) - (1-y)*np.log(h(X,theta)) )\n",
    "#    return J\n",
    "def costFunction(theta, X, y):\n",
    "    m = y.size\n",
    "    h = Sigmoid(X.dot(theta))\n",
    "    \n",
    "    J = -1*(1/m)*(np.log(h).T.dot(y)+np.log(1-h).T.dot(1-y))\n",
    "               \n",
    "    return np.sum(J)\n",
    "\n"
   ]
  },
  {
   "cell_type": "code",
   "execution_count": 13,
   "metadata": {},
   "outputs": [],
   "source": [
    "def CostFunction(theta,X,y):\n",
    "    m = X.shape[0]\n",
    "    J = (-1/m)*np.sum( y*np.log(h(theta,X)) + (1-y)*np.log(h(theta,X)) )\n",
    "    return J"
   ]
  },
  {
   "cell_type": "code",
   "execution_count": 14,
   "metadata": {},
   "outputs": [
    {
     "name": "stdout",
     "output_type": "stream",
     "text": [
      "0.6931471805599453\n"
     ]
    }
   ],
   "source": [
    "print(CostFunction(theta,X_bias,y))"
   ]
  },
  {
   "cell_type": "code",
   "execution_count": 15,
   "metadata": {},
   "outputs": [],
   "source": [
    "def Gradient(theta,X,y):\n",
    "    hthetaX = h(theta,X)\n",
    "    grad = np.dot(np.transpose(X), (hthetaX - y))\n",
    "    return grad/X.shape[0]"
   ]
  },
  {
   "cell_type": "code",
   "execution_count": 16,
   "metadata": {},
   "outputs": [
    {
     "name": "stdout",
     "output_type": "stream",
     "text": [
      "Gradient :  [ -0.1        -12.00921659 -11.26284221]\n"
     ]
    }
   ],
   "source": [
    "print('Gradient : ',Gradient(theta,X_bias,y))"
   ]
  },
  {
   "cell_type": "code",
   "execution_count": 17,
   "metadata": {},
   "outputs": [
    {
     "name": "stderr",
     "output_type": "stream",
     "text": [
      "/Users/ananyapa/opt/anaconda3/lib/python3.7/site-packages/ipykernel_launcher.py:9: RuntimeWarning: divide by zero encountered in log\n",
      "  if __name__ == '__main__':\n"
     ]
    },
    {
     "data": {
      "text/plain": [
       "      fun: 0.2034977015894438\n",
       " hess_inv: array([[ 3.31474479e+03, -2.63892205e+01, -2.70237122e+01],\n",
       "       [-2.63892205e+01,  2.23869433e-01,  2.02682332e-01],\n",
       "       [-2.70237122e+01,  2.02682332e-01,  2.35335117e-01]])\n",
       "      jac: array([-9.52476821e-09, -9.31921318e-07, -2.82608929e-07])\n",
       "  message: 'Optimization terminated successfully.'\n",
       "     nfev: 31\n",
       "      nit: 23\n",
       "     njev: 31\n",
       "   status: 0\n",
       "  success: True\n",
       "        x: array([-25.16133284,   0.2062317 ,   0.2014716 ])"
      ]
     },
     "execution_count": 17,
     "metadata": {},
     "output_type": "execute_result"
    }
   ],
   "source": [
    "from scipy.optimize import minimize\n",
    "res = minimize(costFunction, x0=theta, args=(X_bias,y), method = None, jac=Gradient, options={'maxiter':1500})\n",
    "res"
   ]
  },
  {
   "cell_type": "code",
   "execution_count": 18,
   "metadata": {},
   "outputs": [],
   "source": [
    "def predict(theta,X,threshold=0.5):\n",
    "    P = h(theta,X) >= threshold\n",
    "    return(P.astype('int'))"
   ]
  },
  {
   "cell_type": "code",
   "execution_count": 19,
   "metadata": {},
   "outputs": [
    {
     "name": "stdout",
     "output_type": "stream",
     "text": [
      "Train accuracy 89.0%\n"
     ]
    }
   ],
   "source": [
    "p = predict(res.x,X_bias)\n",
    "print('Train accuracy {}%'.format(100*sum(p == y.ravel())/p.size))"
   ]
  },
  {
   "cell_type": "markdown",
   "metadata": {},
   "source": [
    "### Creating the Decision Boundry"
   ]
  },
  {
   "cell_type": "code",
   "execution_count": 20,
   "metadata": {},
   "outputs": [
    {
     "data": {
      "image/png": "[encoded data removed]",
      "text/plain": [
       "<Figure size 432x288 with 1 Axes>"
      ]
     },
     "metadata": {
      "needs_background": "light"
     },
     "output_type": "display_data"
    },
    {
     "data": {
      "text/plain": [
       "<Figure size 864x576 with 0 Axes>"
      ]
     },
     "metadata": {},
     "output_type": "display_data"
    }
   ],
   "source": [
    "# Creating the Mix Max Value\n",
    "x1_min, x1_max = X_bias[:,1].min(), X_bias[:,1].max(),\n",
    "x2_min, x2_max = X_bias[:,2].min(), X_bias[:,2].max(),\n",
    "\n",
    "# Creating the Meshgrid of numbers from min to max both X and Y AXIS \n",
    "xx1, xx2 = np.meshgrid(np.linspace(x1_min, x1_max), np.linspace(x2_min, x2_max))\n",
    "\n",
    "# Calculating the Predicted value for the numbers using the claulcated min theta \n",
    "meshdata = np.c_[np.ones((xx1.ravel().shape[0],1)), xx1.ravel(), xx2.ravel()]\n",
    "hx = Sigmoid(meshdata.dot(res.x))\n",
    "hx = hx.reshape(xx1.shape)\n",
    "\n",
    "#Plotting the values for the meshgrid we just created\n",
    "plt.contour(xx1, xx2, hx, [0.5], linewidths=1, colors='b');\n",
    "\n",
    "#Plotting positive Nehative numbers \n",
    "PlotData(X,y)\n",
    "plt.show()"
   ]
  },
  {
   "cell_type": "markdown",
   "metadata": {},
   "source": [
    "### Doing Everything with SKLEARN"
   ]
  },
  {
   "cell_type": "code",
   "execution_count": 21,
   "metadata": {},
   "outputs": [],
   "source": [
    "from sklearn.linear_model import LogisticRegression\n",
    "from sklearn.preprocessing import StandardScaler"
   ]
  },
  {
   "cell_type": "code",
   "execution_count": 22,
   "metadata": {},
   "outputs": [
    {
     "data": {
      "text/plain": [
       "array([[30.28671077, 43.89499752],\n",
       "       [35.84740877, 72.90219803],\n",
       "       [60.18259939, 86.3085521 ],\n",
       "       [79.03273605, 75.34437644]])"
      ]
     },
     "execution_count": 22,
     "metadata": {},
     "output_type": "execute_result"
    }
   ],
   "source": [
    "# Peaking at the data \n",
    "X[1:5,:]"
   ]
  },
  {
   "cell_type": "code",
   "execution_count": 23,
   "metadata": {},
   "outputs": [
    {
     "data": {
      "text/plain": [
       "array([0., 0., 1., 1.])"
      ]
     },
     "execution_count": 23,
     "metadata": {},
     "output_type": "execute_result"
    }
   ],
   "source": [
    "y[1:5]"
   ]
  },
  {
   "cell_type": "code",
   "execution_count": 24,
   "metadata": {},
   "outputs": [
    {
     "data": {
      "text/plain": [
       "array([[-1.82625564, -1.2075414 ],\n",
       "       [-1.53903969,  0.3612943 ],\n",
       "       [-0.28210129,  1.0863683 ]])"
      ]
     },
     "execution_count": 24,
     "metadata": {},
     "output_type": "execute_result"
    }
   ],
   "source": [
    "SS = StandardScaler()\n",
    "Xscaled = SS.fit_transform(X)\n",
    "Xscaled[1:4,:]"
   ]
  },
  {
   "cell_type": "code",
   "execution_count": 25,
   "metadata": {},
   "outputs": [
    {
     "data": {
      "text/plain": [
       "LogisticRegression(C=1.0, class_weight=None, dual=False, fit_intercept=True,\n",
       "                   intercept_scaling=1, l1_ratio=None, max_iter=100,\n",
       "                   multi_class='auto', n_jobs=None, penalty='l2',\n",
       "                   random_state=123, solver='lbfgs', tol=0.0001, verbose=0,\n",
       "                   warm_start=False)"
      ]
     },
     "execution_count": 25,
     "metadata": {},
     "output_type": "execute_result"
    }
   ],
   "source": [
    "clf = LogisticRegression(random_state=123)\n",
    "clf.fit(Xscaled,y)"
   ]
  },
  {
   "cell_type": "code",
   "execution_count": 26,
   "metadata": {},
   "outputs": [
    {
     "data": {
      "text/plain": [
       "array([[34,  6],\n",
       "       [ 5, 55]])"
      ]
     },
     "execution_count": 26,
     "metadata": {},
     "output_type": "execute_result"
    }
   ],
   "source": [
    "prediction = clf.predict(Xscaled)\n",
    "from sklearn.metrics import confusion_matrix\n",
    "confusion_matrix(y,prediction)"
   ]
  },
  {
   "cell_type": "code",
   "execution_count": 27,
   "metadata": {},
   "outputs": [
    {
     "name": "stdout",
     "output_type": "stream",
     "text": [
      "Model Accuracy = 0.89%\n"
     ]
    }
   ],
   "source": [
    "print(\"Model Accuracy = {}%\".format(np.sum(prediction==y)/y.size))"
   ]
  },
  {
   "cell_type": "markdown",
   "metadata": {},
   "source": [
    "### Lets Try Splitting the Data "
   ]
  },
  {
   "cell_type": "code",
   "execution_count": 28,
   "metadata": {},
   "outputs": [],
   "source": [
    "from sklearn.model_selection import train_test_split\n",
    "Xtrain,Xtest,ytrain,ytest=train_test_split(X,y,test_size=0.33)"
   ]
  },
  {
   "cell_type": "code",
   "execution_count": 29,
   "metadata": {},
   "outputs": [
    {
     "data": {
      "text/plain": [
       "LogisticRegression(C=1.0, class_weight=None, dual=False, fit_intercept=True,\n",
       "                   intercept_scaling=1, l1_ratio=None, max_iter=100,\n",
       "                   multi_class='auto', n_jobs=None, penalty='l2',\n",
       "                   random_state=123, solver='lbfgs', tol=0.0001, verbose=0,\n",
       "                   warm_start=False)"
      ]
     },
     "execution_count": 29,
     "metadata": {},
     "output_type": "execute_result"
    }
   ],
   "source": [
    "clf.fit(Xtrain,ytrain)"
   ]
  },
  {
   "cell_type": "code",
   "execution_count": 30,
   "metadata": {},
   "outputs": [
    {
     "data": {
      "text/plain": [
       "array([[12,  2],\n",
       "       [ 2, 17]])"
      ]
     },
     "execution_count": 30,
     "metadata": {},
     "output_type": "execute_result"
    }
   ],
   "source": [
    "prediction = clf.predict(Xtest)\n",
    "confusion_matrix(ytest,prediction)"
   ]
  },
  {
   "cell_type": "code",
   "execution_count": 31,
   "metadata": {},
   "outputs": [
    {
     "name": "stdout",
     "output_type": "stream",
     "text": [
      "Model Accuracy = 0.8787878787878788%\n"
     ]
    }
   ],
   "source": [
    "print(\"Model Accuracy = {}%\".format(np.sum(prediction==ytest)/ytest.size))"
   ]
  },
  {
   "cell_type": "markdown",
   "metadata": {},
   "source": [
    "Model Accuracy Decreased when we assumed less data but it might be good for prediction more test data."
   ]
  },
  {
   "cell_type": "markdown",
   "metadata": {},
   "source": [
    "### Overfitting v/s Underfitting"
   ]
  },
  {
   "cell_type": "markdown",
   "metadata": {},
   "source": [
    "The model seem to underfit and with introducing more features with higher degrees we can improove the model fit"
   ]
  },
  {
   "cell_type": "code",
   "execution_count": 32,
   "metadata": {},
   "outputs": [],
   "source": [
    "# Function to introduce more features \n",
    "def map_feature(x1, x2,degree=4):\n",
    "    '''\n",
    "    Maps the two input features to quadratic features.\n",
    "    Returns a new feature array with more features, comprising of\n",
    "    X1, X2, X1 ** 2, X2 ** 2, X1*X2, X1*X2 ** 2, etc...\n",
    "    Inputs X1, X2 must be the same size\n",
    "    '''\n",
    "    x1.shape = (x1.size, 1)\n",
    "    x2.shape = (x2.size, 1)\n",
    "    out = np.ones(shape=(x1[:, 0].size, 1))\n",
    "\n",
    "    m, n = out.shape\n",
    "\n",
    "    for i in range(1, degree + 1):\n",
    "        for j in range(i + 1):\n",
    "            r = (x1 ** (i - j)) * (x2 ** j)\n",
    "            out = np.append(out, r, axis=1)\n",
    "            \n",
    "\n",
    "    return out"
   ]
  },
  {
   "cell_type": "code",
   "execution_count": 33,
   "metadata": {},
   "outputs": [
    {
     "name": "stderr",
     "output_type": "stream",
     "text": [
      "/Users/ananyapa/opt/anaconda3/lib/python3.7/site-packages/ipykernel_launcher.py:9: RuntimeWarning: divide by zero encountered in log\n",
      "  if __name__ == '__main__':\n",
      "/Users/ananyapa/opt/anaconda3/lib/python3.7/site-packages/ipykernel_launcher.py:9: RuntimeWarning: divide by zero encountered in log\n",
      "  if __name__ == '__main__':\n"
     ]
    },
    {
     "data": {
      "text/plain": [
       "      fun: nan\n",
       " hess_inv: array([[ 2.62876055e+02,  0.00000000e+00,  1.43321386e+02,\n",
       "         1.25452008e+02, -2.23018759e+02,  6.05170700e+02,\n",
       "        -1.95328093e+02],\n",
       "       [ 0.00000000e+00,  1.00000000e+00,  0.00000000e+00,\n",
       "         0.00000000e+00,  0.00000000e+00,  0.00000000e+00,\n",
       "         0.00000000e+00],\n",
       "       [ 1.43321386e+02,  0.00000000e+00,  8.28103646e+01,\n",
       "         7.09305288e+01, -1.20326554e+02,  3.37049345e+02,\n",
       "        -1.06010974e+02],\n",
       "       [ 1.25452008e+02,  0.00000000e+00,  7.09305288e+01,\n",
       "         6.27642236e+01, -1.03181741e+02,  2.90716989e+02,\n",
       "        -9.06234059e+01],\n",
       "       [-2.23018759e+02,  0.00000000e+00, -1.20326554e+02,\n",
       "        -1.03181741e+02,  2.37134764e+02, -5.69278275e+02,\n",
       "         2.09563014e+02],\n",
       "       [ 6.05170700e+02,  0.00000000e+00,  3.37049345e+02,\n",
       "         2.90716989e+02, -5.69278275e+02,  1.48106447e+03,\n",
       "        -5.03531847e+02],\n",
       "       [-1.95328093e+02,  0.00000000e+00, -1.06010974e+02,\n",
       "        -9.06234059e+01,  2.09563014e+02, -5.03531847e+02,\n",
       "         1.87272581e+02]])\n",
       "      jac: array([-0.00074235,  0.        ,  0.00244935, -0.00807384,  0.00258776,\n",
       "       -0.00273786, -0.00843979])\n",
       "  message: 'Desired error not necessarily achieved due to precision loss.'\n",
       "     nfev: 35\n",
       "      nit: 21\n",
       "     njev: 35\n",
       "   status: 2\n",
       "  success: False\n",
       "        x: array([ 8.73547593,  0.        ,  5.124151  ,  4.38659083, -6.82120862,\n",
       "       20.23364815, -6.07031068])"
      ]
     },
     "execution_count": 33,
     "metadata": {},
     "output_type": "execute_result"
    }
   ],
   "source": [
    "Xfeat = map_feature(X[:,0],X[:,1],degree=2)\n",
    "Xsfeat = SS.fit_transform(Xfeat)\n",
    "Xsfeat_bias = InsertOnes(Xsfeat)\n",
    "theta=np.zeros(Xsfeat_bias.shape[1])\n",
    "\n",
    "res = minimize(costFunction, x0=theta, args=(Xsfeat_bias,y), method = None, jac=Gradient, options={'maxiter':1500})\n",
    "res"
   ]
  },
  {
   "cell_type": "code",
   "execution_count": 34,
   "metadata": {},
   "outputs": [
    {
     "name": "stdout",
     "output_type": "stream",
     "text": [
      "Train accuracy 100.0%\n"
     ]
    }
   ],
   "source": [
    "p = predict(res.x,Xsfeat_bias)\n",
    "print('Train accuracy {}%'.format(100*sum(p == y.ravel())/p.size))"
   ]
  },
  {
   "cell_type": "markdown",
   "metadata": {},
   "source": [
    "### Using Sklearn for Polynomial Features"
   ]
  },
  {
   "cell_type": "code",
   "execution_count": 35,
   "metadata": {},
   "outputs": [],
   "source": [
    "from sklearn.preprocessing import PolynomialFeatures\n",
    "poly = PolynomialFeatures(degree=2)\n",
    "Xpoly = poly.fit_transform(X)"
   ]
  },
  {
   "cell_type": "code",
   "execution_count": 36,
   "metadata": {},
   "outputs": [
    {
     "data": {
      "text/plain": [
       "LogisticRegression(C=1.0, class_weight=None, dual=False, fit_intercept=True,\n",
       "                   intercept_scaling=1, l1_ratio=None, max_iter=100,\n",
       "                   multi_class='auto', n_jobs=None, penalty='l2',\n",
       "                   random_state=123, solver='lbfgs', tol=0.0001, verbose=0,\n",
       "                   warm_start=False)"
      ]
     },
     "execution_count": 36,
     "metadata": {},
     "output_type": "execute_result"
    }
   ],
   "source": [
    "Xpolyscaled=SS.fit_transform(Xpoly)\n",
    "clf.fit(Xpolyscaled,y)"
   ]
  },
  {
   "cell_type": "code",
   "execution_count": 37,
   "metadata": {},
   "outputs": [
    {
     "data": {
      "text/plain": [
       "array([[36,  4],\n",
       "       [ 5, 55]])"
      ]
     },
     "execution_count": 37,
     "metadata": {},
     "output_type": "execute_result"
    }
   ],
   "source": [
    "pred = clf.predict(Xpolyscaled)\n",
    "confusion_matrix(y,pred)"
   ]
  },
  {
   "cell_type": "code",
   "execution_count": 38,
   "metadata": {},
   "outputs": [
    {
     "name": "stdout",
     "output_type": "stream",
     "text": [
      "Train accuracy 91.0%\n"
     ]
    }
   ],
   "source": [
    "print('Train accuracy {}%'.format(100*sum(pred == y.ravel())/pred.size))"
   ]
  },
  {
   "cell_type": "markdown",
   "metadata": {},
   "source": [
    "## Regularization "
   ]
  },
  {
   "cell_type": "markdown",
   "metadata": {},
   "source": [
    "We will consider another data and clasification for Regularization"
   ]
  },
  {
   "cell_type": "code",
   "execution_count": 39,
   "metadata": {},
   "outputs": [],
   "source": [
    "def plotData(data, label_x, label_y, label_pos, label_neg, axes=None):\n",
    "    # Get indexes for class 0 and class 1\n",
    "    neg = data[:,2] == 0\n",
    "    pos = data[:,2] == 1\n",
    "    \n",
    "    # If no specific axes object has been passed, get the current axes.\n",
    "    if axes == None:\n",
    "        axes = plt.gca()\n",
    "    axes.scatter(data[pos][:,0], data[pos][:,1], marker='+', c='red', s=60, linewidth=2, label=label_pos)\n",
    "    axes.scatter(data[neg][:,0], data[neg][:,1], c='black', s=30, label=label_neg)\n",
    "    axes.set_xlabel(label_x)\n",
    "    axes.set_ylabel(label_y)\n",
    "    axes.legend(frameon= True, fancybox = True);"
   ]
  },
  {
   "cell_type": "code",
   "execution_count": 40,
   "metadata": {},
   "outputs": [
    {
     "name": "stdout",
     "output_type": "stream",
     "text": [
      "Dimensions (118, 3)\n",
      "First 5 Rows : \n",
      "[[-0.092742  0.68494   1.      ]\n",
      " [-0.21371   0.69225   1.      ]\n",
      " [-0.375     0.50219   1.      ]\n",
      " [-0.51325   0.46564   1.      ]]\n"
     ]
    }
   ],
   "source": [
    "data = LoadData('data/ex2data2.txt', ',')"
   ]
  },
  {
   "cell_type": "code",
   "execution_count": 41,
   "metadata": {},
   "outputs": [],
   "source": [
    "y = np.c_[data[:,2]]\n",
    "X = data[:,0:2]"
   ]
  },
  {
   "cell_type": "code",
   "execution_count": 42,
   "metadata": {},
   "outputs": [
    {
     "data": {
      "image/png": "[encoded data removed]",
      "text/plain": [
       "<Figure size 432x288 with 1 Axes>"
      ]
     },
     "metadata": {
      "needs_background": "light"
     },
     "output_type": "display_data"
    }
   ],
   "source": [
    "plotData(data, 'Exam 1 score', 'Exam 2 score', 'Admitted', 'Not admitted')"
   ]
  },
  {
   "cell_type": "markdown",
   "metadata": {},
   "source": [
    "## Regularised Cost Function : Vectorised Form"
   ]
  },
  {
   "cell_type": "markdown",
   "metadata": {},
   "source": [
    "$$ J(\\theta) = \\frac{1}{m}\\big((\\,log\\,(g(X\\theta))^Ty+(\\,log\\,(1-g(X\\theta))^T(1-y)\\big) + \\frac{\\lambda}{2m}\\sum_{j=1}^{n}\\theta_{j}^{2} $$"
   ]
  },
  {
   "cell_type": "code",
   "execution_count": 43,
   "metadata": {},
   "outputs": [],
   "source": [
    "def costFunctionReg(theta, reg, X,y):\n",
    "    m = y.size\n",
    "    h = Sigmoid(X.dot(theta))\n",
    "    \n",
    "    J = -1*(1/m)*(np.log(h).T.dot(y)+np.log(1-h).T.dot(1-y)) + (reg/(2*m))*np.sum(np.square(theta[1:]))\n",
    "    \n",
    "    if np.isnan(J[0]):\n",
    "        return(np.inf)\n",
    "    return(J[0])"
   ]
  },
  {
   "cell_type": "code",
   "execution_count": 44,
   "metadata": {},
   "outputs": [
    {
     "data": {
      "text/plain": [
       "(118, 15)"
      ]
     },
     "execution_count": 44,
     "metadata": {},
     "output_type": "execute_result"
    }
   ],
   "source": [
    "poly = PolynomialFeatures(degree=4)\n",
    "Xpoly = poly.fit_transform(X)\n",
    "Xpoly.shape"
   ]
  },
  {
   "cell_type": "code",
   "execution_count": 45,
   "metadata": {},
   "outputs": [],
   "source": [
    "def gradientReg(theta, reg, X,y):\n",
    "    m = y.size\n",
    "    h = Sigmoid(X.dot(theta.reshape(-1,1)))\n",
    "      \n",
    "    grad = (1/m)*X.T.dot(h-y) + (reg/m)*np.r_[[[0]],theta[1:].reshape(-1,1)]\n",
    "        \n",
    "    return(grad.flatten())"
   ]
  },
  {
   "cell_type": "code",
   "execution_count": 46,
   "metadata": {},
   "outputs": [
    {
     "data": {
      "text/plain": [
       "0.6931471805599453"
      ]
     },
     "execution_count": 46,
     "metadata": {},
     "output_type": "execute_result"
    }
   ],
   "source": [
    "initial_theta = np.zeros(Xpoly.shape[1])\n",
    "costFunctionReg(initial_theta, 1, Xpoly, y)"
   ]
  },
  {
   "cell_type": "code",
   "execution_count": 47,
   "metadata": {},
   "outputs": [
    {
     "data": {
      "image/png": "[encoded data removed]",
      "text/plain": [
       "<Figure size 1224x360 with 3 Axes>"
      ]
     },
     "metadata": {
      "needs_background": "light"
     },
     "output_type": "display_data"
    }
   ],
   "source": [
    "fig, axes = plt.subplots(1,3, sharey = True, figsize=(17,5))\n",
    "\n",
    "# Decision boundaries\n",
    "# Lambda = 0 : No regularization --> too flexible, overfitting the training data\n",
    "# Lambda = 1 : Looks about right\n",
    "# Lambda = 100 : Too much regularization --> high bias\n",
    "\n",
    "for i, C in enumerate([0, 1, 100]):\n",
    "    # Optimize costFunctionReg\n",
    "    res2 = minimize(costFunctionReg, initial_theta, args=(C, Xpoly, y), method=None, jac=gradientReg, options={'maxiter':3000})\n",
    "    \n",
    "    # Accuracy\n",
    "    accuracy = 100*sum(predict(res2.x, Xpoly) == y.ravel())/y.size    \n",
    "\n",
    "    # Scatter plot of X,y\n",
    "    plotData(data, 'Microchip Test 1', 'Microchip Test 2', 'Test Pass', 'Test Fail', axes.flatten()[i])\n",
    "    \n",
    "    # Plot decisionboundary\n",
    "    \n",
    "    # Creating the meshgrid\n",
    "    x1_min, x1_max = X[:,0].min(), X[:,0].max(),\n",
    "    x2_min, x2_max = X[:,1].min(), X[:,1].max(),\n",
    "    xx1, xx2 = np.meshgrid(np.linspace(x1_min, x1_max), np.linspace(x2_min, x2_max))\n",
    "    \n",
    "    # For Each data point the predicted value is plotted.\n",
    "    # Creatin a 1 single array from xx1 and xx2 adn then predicting values \n",
    "    preparedData = poly.fit_transform(np.c_[xx1.ravel(), xx2.ravel()])\n",
    "    \n",
    "    # Calculating the predicted value \n",
    "    hh = Sigmoid(preparedData.dot(res2.x))\n",
    "    hh = hh.reshape(xx1.shape)\n",
    "    \n",
    "    # Plotting the Predicted Value \n",
    "    axes.flatten()[i].contour(xx1, xx2, hh, [0.5], linewidths=2, colors='g');       \n",
    "    axes.flatten()[i].set_title('Train accuracy {}% with Lambda = {}'.format(np.round(accuracy, decimals=2), C))"
   ]
  },
  {
   "cell_type": "markdown",
   "metadata": {},
   "source": []
  },
  {
   "cell_type": "code",
   "execution_count": null,
   "metadata": {},
   "outputs": [],
   "source": []
  }
 ],
 "metadata": {
  "kernelspec": {
   "display_name": "Python 3",
   "language": "python",
   "name": "python3"
  },
  "language_info": {
   "codemirror_mode": {
    "name": "ipython",
    "version": 3
   },
   "file_extension": ".py",
   "mimetype": "text/x-python",
   "name": "python",
   "nbconvert_exporter": "python",
   "pygments_lexer": "ipython3",
   "version": "3.7.6"
  }
 },
 "nbformat": 4,
 "nbformat_minor": 4
}
