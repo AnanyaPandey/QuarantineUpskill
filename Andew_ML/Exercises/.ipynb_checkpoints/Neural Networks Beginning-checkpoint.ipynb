{
 "cells": [
  {
   "cell_type": "code",
   "execution_count": 1,
   "metadata": {},
   "outputs": [],
   "source": [
    "import numpy as np\n",
    "import pandas as pd\n",
    "import matplotlib.pyplot as plt\n",
    "import seaborn as sns\n",
    "%matplotlib inline"
   ]
  },
  {
   "cell_type": "code",
   "execution_count": 2,
   "metadata": {},
   "outputs": [],
   "source": [
    "pd.set_option('display.max_columns', None)\n",
    "pd.set_option('display.max_rows', 150)\n",
    "pd.set_option('display.max_seq_items', None)\n",
    "sns.set_context('notebook')\n",
    "sns.set_style('darkgrid')"
   ]
  },
  {
   "cell_type": "markdown",
   "metadata": {},
   "source": [
    "## Loading the Data "
   ]
  },
  {
   "cell_type": "code",
   "execution_count": 3,
   "metadata": {},
   "outputs": [
    {
     "name": "stdout",
     "output_type": "stream",
     "text": [
      "dict_keys(['__header__', '__version__', '__globals__', 'X', 'y'])\n"
     ]
    }
   ],
   "source": [
    "from scipy.io import loadmat\n",
    "traindata = loadmat('data/ex4data1.mat')\n",
    "print(traindata.keys())"
   ]
  },
  {
   "cell_type": "code",
   "execution_count": 4,
   "metadata": {},
   "outputs": [
    {
     "name": "stdout",
     "output_type": "stream",
     "text": [
      "Shape of X (5000, 400)\n",
      "Shape of y (5000, 1)\n"
     ]
    }
   ],
   "source": [
    "# Let X and y be independent and dependent variable\n",
    "X = traindata['X']\n",
    "y = traindata['y']\n",
    "print(\"Shape of X\",X.shape)\n",
    "print(\"Shape of y\",y.shape)"
   ]
  },
  {
   "cell_type": "code",
   "execution_count": 5,
   "metadata": {},
   "outputs": [
    {
     "name": "stdout",
     "output_type": "stream",
     "text": [
      "Shape of  X with Bias unit (5000, 401)\n"
     ]
    }
   ],
   "source": [
    "Xbias = np.c_[np.ones(X.shape[0]),X]\n",
    "print(\"Shape of  X with Bias unit\",Xbias.shape)"
   ]
  },
  {
   "cell_type": "code",
   "execution_count": 6,
   "metadata": {},
   "outputs": [
    {
     "name": "stdout",
     "output_type": "stream",
     "text": [
      "dict_keys(['__header__', '__version__', '__globals__', 'Theta1', 'Theta2'])\n"
     ]
    }
   ],
   "source": [
    "# Loading Weights\n",
    "weights = loadmat('data/ex3weights.mat')\n",
    "print(weights.keys())"
   ]
  },
  {
   "cell_type": "code",
   "execution_count": 7,
   "metadata": {},
   "outputs": [
    {
     "name": "stdout",
     "output_type": "stream",
     "text": [
      "Shape of Theta 1 (25, 401)\n",
      "Shape of Theta 2 (10, 26)\n"
     ]
    }
   ],
   "source": [
    "init_theta1 = weights['Theta1']\n",
    "init_theta2 = weights['Theta2']\n",
    "print(\"Shape of Theta 1\",init_theta1.shape)\n",
    "print(\"Shape of Theta 2\",init_theta2.shape)"
   ]
  },
  {
   "cell_type": "code",
   "execution_count": 8,
   "metadata": {},
   "outputs": [
    {
     "name": "stdout",
     "output_type": "stream",
     "text": [
      "Input Layer Size :  400\n",
      "Hidden Leyer Size :  25\n",
      "Output Leyer Size :  10\n",
      "Total Number of Layers : 3\n"
     ]
    }
   ],
   "source": [
    "print(\"Input Layer Size : \",X.shape[1])\n",
    "print(\"Hidden Leyer Size : \",init_theta1.shape[0])\n",
    "print(\"Output Leyer Size : \",init_theta2.shape[0])\n",
    "print(\"Total Number of Layers : 3\")"
   ]
  },
  {
   "cell_type": "code",
   "execution_count": 9,
   "metadata": {},
   "outputs": [],
   "source": [
    "InputLayer = 400\n",
    "HiddenLayer = 25\n",
    "OutputLayer = 10 # Also called Number of Labels"
   ]
  },
  {
   "cell_type": "markdown",
   "metadata": {},
   "source": [
    "Theta Initialization \n",
    "Thetas are initialized through the given formula "
   ]
  },
  {
   "cell_type": "markdown",
   "metadata": {},
   "source": [
    "$$ \\epsilon = \\sqrt \\frac{6}{L_{in} + L_{out}} $$"
   ]
  },
  {
   "cell_type": "markdown",
   "metadata": {},
   "source": [
    "$$ W = [Random-Matrix]_{L_{in} x L_{out}} * 2\\epsilon - \\epsilon $$"
   ]
  },
  {
   "cell_type": "code",
   "execution_count": 10,
   "metadata": {},
   "outputs": [],
   "source": [
    "def Rand_InitializeTheta(lin,lout):\n",
    "    epsil = (6/(lin+lout))**1/2\n",
    "    W = np.random.rand(lin,lout+1) * (2*epsil) - epsil\n",
    "    return W"
   ]
  },
  {
   "cell_type": "markdown",
   "metadata": {},
   "source": [
    "### Lets Visualize some rows of data "
   ]
  },
  {
   "cell_type": "code",
   "execution_count": 11,
   "metadata": {},
   "outputs": [],
   "source": [
    "import matplotlib.image as mpimg\n",
    "def PlotNumbers(X,Nrows=4):\n",
    "    if Nrows > 100 :\n",
    "        print(\"Too Large to Display\")\n",
    "        return\n",
    "    nrow = int(np.sqrt(Nrows))\n",
    "    ncol = int(np.sqrt(Nrows))\n",
    "    m = X.shape[0] \n",
    "    fig,axis = plt.subplots(nrow,ncol,figsize=(5,5))\n",
    "    for i in range(ncol):\n",
    "        for j in range(ncol):\n",
    "            axis[i,j].imshow(X[np.random.randint(0,m),:].reshape(20,20,order=\"F\"))\n",
    "            "
   ]
  },
  {
   "cell_type": "code",
   "execution_count": 12,
   "metadata": {},
   "outputs": [
    {
     "data": {
      "image/png": "[encoded data removed]",
      "text/plain": [
       "<Figure size 360x360 with 4 Axes>"
      ]
     },
     "metadata": {},
     "output_type": "display_data"
    }
   ],
   "source": [
    "# Plotting Random 4 Rows of data \n",
    "PlotNumbers(X,4)"
   ]
  },
  {
   "cell_type": "markdown",
   "metadata": {},
   "source": [
    "### Feed Forward and Activation Function "
   ]
  },
  {
   "cell_type": "code",
   "execution_count": 13,
   "metadata": {},
   "outputs": [],
   "source": [
    "# Activation function is sigmoid for our classification\n",
    "def sigmoid(z):\n",
    "    return 1/(1 + np.exp(-1*z))"
   ]
  },
  {
   "cell_type": "code",
   "execution_count": 14,
   "metadata": {},
   "outputs": [
    {
     "data": {
      "text/plain": [
       "[<matplotlib.lines.Line2D at 0x11e05f150>]"
      ]
     },
     "execution_count": 14,
     "metadata": {},
     "output_type": "execute_result"
    },
    {
     "data": {
      "image/png": "[encoded data removed]",
      "text/plain": [
       "<Figure size 432x288 with 1 Axes>"
      ]
     },
     "metadata": {},
     "output_type": "display_data"
    }
   ],
   "source": [
    "Xaxis = np.arange(-10,10)\n",
    "yaxis = sigmoid(Xaxis)\n",
    "plt.plot(Xaxis,yaxis)"
   ]
  },
  {
   "cell_type": "markdown",
   "metadata": {},
   "source": [
    "#### Cost Function With Regularization \n",
    "\n",
    "$$ J(\\theta) = \\frac{-1}{m} \\sum_{i=1}^{m} \\sum_{k=1}^{K} \\big[ y^{(i)}_k log(h_{\\theta}(x^{(i)})_k) + (1-y^{(i)}_k) log(1 - h_{\\theta}(x^{(i)})_k) \\big] + \\frac{\\lambda}{2m} \\sum_{l=1}^{L} \\sum_{i=1}^{n} \\sum_{j=1}^{n=1} (\\theta^l_{ij})^2 $$"
   ]
  },
  {
   "cell_type": "code",
   "execution_count": 15,
   "metadata": {},
   "outputs": [],
   "source": [
    "InputLayerSize = 400\n",
    "HiddenLayerSize = 25\n",
    "NumLabels = 10\n"
   ]
  },
  {
   "cell_type": "markdown",
   "metadata": {},
   "source": [
    "$$ J(\\theta) = \\frac{1}{m}\\big((\\,log\\,(g(X\\theta))^Ty+(\\,log\\,(1-g(X\\theta))^T(1-y)\\big) + \\frac{\\lambda}{2m}\\sum_{j=1}^{n}\\theta_{j}^{2} $$"
   ]
  },
  {
   "cell_type": "code",
   "execution_count": 16,
   "metadata": {},
   "outputs": [],
   "source": [
    "def NNCostfunction(thetas,X,y,InputLayerSize,HiddenLayerSize,NumLabels,lamda=0):\n",
    "    \n",
    "    Theta1 = thetas[0:(HiddenLayerSize*(InputLayerSize+1))].reshape(HiddenLayerSize,InputLayerSize+1)\n",
    "    Theta2 = thetas[(HiddenLayerSize*(InputLayerSize+1)):].reshape(NumLabels,HiddenLayerSize+1)\n",
    "    \n",
    "    m = X.shape[0]\n",
    "    J = 0 \n",
    "    y_matrix = pd.get_dummies(y.ravel())\n",
    "    \n",
    "    # Forward Propogation  OR Feed Forward\n",
    "    a1 = X # 5000x401\n",
    "    \n",
    "    z2 = sigmoid(np.dot(X,Theta1.T)) # 5000x401 * 401x25 = 5000x25\n",
    "    a2 = np.c_[np.ones(X.shape[0]),z2] # 5000x26\n",
    "    \n",
    "    z3 = np.dot(a2,Theta2.T) # 5000x10\n",
    "    a3 = sigmoid(z3) # 5000x10\n",
    "    \n",
    "    epsilon = 1e-5    \n",
    "    # If we use vectorized we do not need to sum explicitly\n",
    "    J = (-1/m) * np.sum(np.sum(y_matrix * np.log(a3+epsilon) + (1 - y_matrix) * np.log(1-a3+epsilon)))\n",
    "    #J = (-1/m) * np.sum(np.sum(np.log(a3)*y_matrix + np.log(1-a3)*(1 - y_matrix)))\n",
    "    #J = (-1/m) * np.sum( np.dot(np.log(a3).T,y_matrix) +  np.dot(np.log(1-a3).T,(1-y_matrix)))\n",
    "    J = J + (lamda/(2*m)) * (np.sum(np.square(Theta1[:,1:])) + np.sum(np.square(Theta2[:,1:])))\n",
    "    \n",
    "    return J \n",
    "    "
   ]
  },
  {
   "cell_type": "code",
   "execution_count": 17,
   "metadata": {},
   "outputs": [
    {
     "name": "stdout",
     "output_type": "stream",
     "text": [
      "0.28751238099868115\n"
     ]
    }
   ],
   "source": [
    "nnparams = np.r_[init_theta1.ravel(),init_theta2.ravel()]\n",
    "print(NNCostfunction(nnparams,Xbias,y,InputLayerSize,HiddenLayerSize,NumLabels))"
   ]
  },
  {
   "cell_type": "markdown",
   "metadata": {},
   "source": [
    "### With Regularization"
   ]
  },
  {
   "cell_type": "code",
   "execution_count": 18,
   "metadata": {},
   "outputs": [
    {
     "name": "stdout",
     "output_type": "stream",
     "text": [
      "Error With Regularization 0.3836530749282859\n"
     ]
    }
   ],
   "source": [
    "print(\"Error With Regularization\",NNCostfunction(nnparams,Xbias,y,InputLayerSize,HiddenLayerSize,NumLabels,lamda=1))"
   ]
  },
  {
   "cell_type": "markdown",
   "metadata": {},
   "source": [
    "### Backpropogation"
   ]
  },
  {
   "cell_type": "markdown",
   "metadata": {},
   "source": [
    "Although it would make sense to compute the Errors and perform backpropogation along with Cost Function since computations are repeatetive, for understanding lets create a separate function for Gradients. Gradients are the derivatives of Cost (Error), for ease in computation we use the delta errors "
   ]
  },
  {
   "cell_type": "code",
   "execution_count": 19,
   "metadata": {},
   "outputs": [],
   "source": [
    "def SigmoidGradient(z):\n",
    "    return sigmoid(z)*(1-sigmoid(z))"
   ]
  },
  {
   "cell_type": "code",
   "execution_count": 20,
   "metadata": {},
   "outputs": [
    {
     "data": {
      "text/plain": [
       "[0.19661193324148185,\n",
       " 0.2350037122015945,\n",
       " 0.25,\n",
       " 0.2350037122015945,\n",
       " 0.19661193324148185]"
      ]
     },
     "execution_count": 20,
     "metadata": {},
     "output_type": "execute_result"
    }
   ],
   "source": [
    "[SigmoidGradient(z) for z in [-1, -0.5, 0, 0.5, 1]]"
   ]
  },
  {
   "cell_type": "code",
   "execution_count": 21,
   "metadata": {},
   "outputs": [
    {
     "data": {
      "text/plain": [
       "[<matplotlib.lines.Line2D at 0x1a23f83d10>]"
      ]
     },
     "execution_count": 21,
     "metadata": {},
     "output_type": "execute_result"
    },
    {
     "data": {
      "image/png": "[encoded data removed]",
      "text/plain": [
       "<Figure size 432x288 with 1 Axes>"
      ]
     },
     "metadata": {},
     "output_type": "display_data"
    }
   ],
   "source": [
    "Xaxis = np.arange(-10,10)\n",
    "yaxis = SigmoidGradient(Xaxis)\n",
    "plt.plot(Xaxis,yaxis)"
   ]
  },
  {
   "cell_type": "markdown",
   "metadata": {},
   "source": [
    "$$ D^l_{ij} = \\frac{1}{m} \\Delta^l_{ij} + \\lambda \\Theta^l_{ij} $$"
   ]
  },
  {
   "cell_type": "code",
   "execution_count": 22,
   "metadata": {},
   "outputs": [],
   "source": [
    "def Gradient(thetas,X,y,InputLayerSize,HiddenLayerSize,NumLabels,lamda=0):\n",
    "    Theta1 = thetas[0:(HiddenLayerSize*(InputLayerSize+1))].reshape(HiddenLayerSize,InputLayerSize+1)\n",
    "    Theta2 = thetas[(HiddenLayerSize*(InputLayerSize+1)):].reshape(NumLabels,HiddenLayerSize+1)\n",
    "    \n",
    "    m = X.shape[0]\n",
    "    J = 0 \n",
    "    y_matrix = pd.get_dummies(y.ravel())\n",
    "    \n",
    "    # Forward Propogation  OR Feed Forward\n",
    "    a1 = X # 5000x401\n",
    "    \n",
    "    z2 = np.dot(X,Theta1.T) # 5000x401 * 401x25 = 5000x25\n",
    "    a2 = np.c_[np.ones(X.shape[0]),sigmoid(z2)] # 5000x26\n",
    "    \n",
    "    z3 = np.dot(a2,Theta2.T) # 5000x10\n",
    "    a3 = sigmoid(z3) # 5000x10\n",
    "    \n",
    "    ## Backpropogation \n",
    "    delta3 = a3 - y #5000x10 \n",
    "    delta2 = delta3.dot(Theta2[:,1:]) * SigmoidGradient(z2) # 5000x10 * 10x25 = 5000x25 \n",
    "    delta1 = None # Since there can be no error with input layer \n",
    "    \n",
    "    Delta2 = delta3.T.dot(a2) # 10x5000* 5000x26 = 10x26\n",
    "    Delta1 = delta2.T.dot(a1) # 25x5000 * 5000x401 = 25x401\n",
    "    \n",
    "    # Instead of sub setting the thetas, Lets just create a new theta \n",
    "    # By taking Ones for first column and previous Theta for so on.\n",
    "    \n",
    "    thetatemp1 = np.c_[np.zeros(Theta1.shape[0]),Theta1[:,1:]]\n",
    "    thetatemp2 = np.c_[np.ones(Theta2.shape[0]),Theta2[:,1:]]\n",
    "    \n",
    "    # Here we dont need to worry about NOT multiplying the reg parameter because \n",
    "    # we have introduced Ones in the first column of both thetas.\n",
    "    \n",
    "    grad2 = (1/m) * (Delta2 + lamda*thetatemp2) \n",
    "    grad1 = (1/m) * (Delta1 + lamda*thetatemp1) \n",
    "    \n",
    "    return np.r_[grad1.ravel(),grad2.ravel()]"
   ]
  },
  {
   "cell_type": "code",
   "execution_count": 23,
   "metadata": {},
   "outputs": [
    {
     "data": {
      "text/plain": [
       "(10285,)"
      ]
     },
     "execution_count": 23,
     "metadata": {},
     "output_type": "execute_result"
    }
   ],
   "source": [
    "gradients  = Gradient(nnparams,Xbias,y,InputLayerSize,HiddenLayerSize,NumLabels)\n",
    "gradients.shape"
   ]
  },
  {
   "cell_type": "markdown",
   "metadata": {},
   "source": [
    "### Learning Parameters through Gradient Descent"
   ]
  },
  {
   "cell_type": "code",
   "execution_count": 25,
   "metadata": {},
   "outputs": [],
   "source": [
    "def GradientDescent(thetas,X,y,InputLayerSize,HiddenLayerSize,NumLabels,lamda=1,alpha=0.01,num_iters=100):\n",
    "    \n",
    "    Theta1 = thetas[0:(HiddenLayerSize*(InputLayerSize+1))].reshape(HiddenLayerSize,InputLayerSize+1)\n",
    "    Theta2 = thetas[(HiddenLayerSize*(InputLayerSize+1)):].reshape(NumLabels,HiddenLayerSize+1)\n",
    "    \n",
    "    m=len(y)\n",
    "    J_hist=np.array(num_iters)\n",
    "    #J_hist = np.zeros(num_iters)\n",
    "    \n",
    "    for i in range(num_iters):\n",
    "        nn_params = np.append(Theta1.flatten(),Theta2.flatten())\n",
    "        cost = NNCostfunction(nn_params,X,y,InputLayerSize,HiddenLayerSize,NumLabels)\n",
    "        gradients = Gradient(nn_params,X,y,InputLayerSize,HiddenLayerSize,NumLabels)\n",
    "        \n",
    "        grad1 = gradients[0:(HiddenLayerSize*(InputLayerSize+1))].reshape(HiddenLayerSize,InputLayerSize+1)\n",
    "        grad2 = gradients[(HiddenLayerSize*(InputLayerSize+1)):].reshape(NumLabels,HiddenLayerSize+1)\n",
    "        \n",
    "        Theta1 = Theta1 - (alpha*grad1)\n",
    "        Theta2 = Theta2 - (alpha*grad2)\n",
    "        J_hist = np.c_[J_hist,cost]\n",
    "    \n",
    "    FinalTheta = np.append(Theta1.flatten(),Theta2.flatten())\n",
    "    return FinalTheta,J_hist"
   ]
  },
  {
   "cell_type": "code",
   "execution_count": 26,
   "metadata": {},
   "outputs": [],
   "source": [
    "initial_Theta1 = Rand_InitializeTheta(InputLayerSize+1, HiddenLayerSize-1)\n",
    "initial_Theta2 = Rand_InitializeTheta(HiddenLayerSize+1, NumLabels-1)\n",
    "initial_nn_params = np.append(initial_Theta1.flatten(),initial_Theta2.flatten())"
   ]
  },
  {
   "cell_type": "code",
   "execution_count": 27,
   "metadata": {},
   "outputs": [
    {
     "name": "stdout",
     "output_type": "stream",
     "text": [
      "7.080877663363465\n",
      "103.61631918478773\n"
     ]
    }
   ],
   "source": [
    "print(NNCostfunction(initial_nn_params,Xbias,y,InputLayerSize,HiddenLayerSize,NumLabels))\n",
    "LearntTheta,J_hist = GradientDescent(initial_nn_params,Xbias,y,InputLayerSize,HiddenLayerSize,NumLabels)\n",
    "print(NNCostfunction(LearntTheta,Xbias,y,InputLayerSize,HiddenLayerSize,NumLabels))"
   ]
  },
  {
   "cell_type": "markdown",
   "metadata": {},
   "source": [
    "## Learning parameter through Scipy Optimize "
   ]
  },
  {
   "cell_type": "code",
   "execution_count": 28,
   "metadata": {},
   "outputs": [
    {
     "data": {
      "text/plain": [
       "\"options= {'maxiter': 50}\\nlamda = 1\\ncostFunction = lambda p: NNCostfunction(p, Xbias,y,InputLayerSize,HiddenLayerSize,NumLabels,lamda)\\nfrom scipy import optimize\\n\\nres = optimize.minimize(costFunction,\\n                        initial_nn_params,\\n                        jac=None,\\n                        method='TNC',\\n                        options=options)\\n\\nnn_params = res.x\""
      ]
     },
     "execution_count": 28,
     "metadata": {},
     "output_type": "execute_result"
    }
   ],
   "source": [
    "'''options= {'maxiter': 50}\n",
    "lamda = 1\n",
    "costFunction = lambda p: NNCostfunction(p, Xbias,y,InputLayerSize,HiddenLayerSize,NumLabels,lamda)\n",
    "from scipy import optimize\n",
    "\n",
    "res = optimize.minimize(costFunction,\n",
    "                        initial_nn_params,\n",
    "                        jac=None,\n",
    "                        method='TNC',\n",
    "                        options=options)\n",
    "\n",
    "nn_params = res.x'''"
   ]
  },
  {
   "cell_type": "markdown",
   "metadata": {},
   "source": [
    "### Scipy.Optimize Minimize "
   ]
  },
  {
   "cell_type": "code",
   "execution_count": 29,
   "metadata": {},
   "outputs": [
    {
     "data": {
      "text/plain": [
       "\"costFunction = lambda p: NNCostfunction(p, Xbias,y,InputLayerSize,HiddenLayerSize,NumLabels,lamda)\\nres =  optimize.minimize(costFunction, Xbias, args=(), method='BFGS', jac=None, tol=None, callback=None, options={'disp': False, 'gtol': 1e-05, \\n                                                                                                      'eps': 1.4901161193847656e-08, \\n                                                                                                      'return_all': False, 'maxiter': None})\""
      ]
     },
     "execution_count": 29,
     "metadata": {},
     "output_type": "execute_result"
    }
   ],
   "source": [
    "'''costFunction = lambda p: NNCostfunction(p, Xbias,y,InputLayerSize,HiddenLayerSize,NumLabels,lamda)\n",
    "res =  optimize.minimize(costFunction, Xbias, args=(), method='BFGS', jac=None, tol=None, callback=None, options={'disp': False, 'gtol': 1e-05, \n",
    "                                                                                                      'eps': 1.4901161193847656e-08, \n",
    "                                                                                                      'return_all': False, 'maxiter': None})'''"
   ]
  },
  {
   "cell_type": "markdown",
   "metadata": {},
   "source": [
    "### Fmin CG "
   ]
  },
  {
   "cell_type": "code",
   "execution_count": 30,
   "metadata": {},
   "outputs": [
    {
     "name": "stdout",
     "output_type": "stream",
     "text": [
      "Warning: Desired error not necessarily achieved due to precision loss.\n",
      "         Current function value: 7.379233\n",
      "         Iterations: 0\n",
      "         Function evaluations: 111\n",
      "         Gradient evaluations: 99\n"
     ]
    }
   ],
   "source": [
    "from scipy.optimize import fmin_bfgs, fmin_cg\n",
    "\n",
    "#initialize parameters\n",
    "#It might take a couple of minutes\n",
    "\n",
    "initial_Theta1 = Rand_InitializeTheta(InputLayerSize+1, HiddenLayerSize-1)\n",
    "initial_Theta2 = Rand_InitializeTheta(HiddenLayerSize+1, NumLabels-1)\n",
    "inittheta = np.r_[initial_Theta1.ravel(),initial_Theta2.ravel()]\n",
    "lamda = 1\n",
    "maxIterations = 30\n",
    "\n",
    "theta = fmin_cg(NNCostfunction,inittheta,fprime = Gradient,args=(Xbias,y,InputLayerSize,HiddenLayerSize,NumLabels,lamda), maxiter = maxIterations,disp = 1)"
   ]
  },
  {
   "cell_type": "code",
   "execution_count": 50,
   "metadata": {},
   "outputs": [],
   "source": [
    "def predictions(thetas,X,InputLayerSize,HiddenLayerSize,NumLabels):\n",
    "    Theta1 = thetas[0:(HiddenLayerSize*(InputLayerSize+1))].reshape(HiddenLayerSize,InputLayerSize+1)\n",
    "    Theta2 = thetas[(HiddenLayerSize*(InputLayerSize+1)):].reshape(NumLabels,HiddenLayerSize+1)\n",
    "    m = X.shape[0]\n",
    "    h1 = sigmoid(np.dot(X,Theta1.T))\n",
    "    H1 = np.append(np.ones((m,1)),h1,axis=1)\n",
    "    h2 = sigmoid(np.dot(H1,Theta2.T))\n",
    "    pred = np.argmax(h2,axis=1)\n",
    "    return pred\n",
    "\n",
    "def accuracy(pred,y):\n",
    "    pred.shape = (pred.size,1)\n",
    "    return np.sum(pred == y)*100/float(y.shape[0])"
   ]
  },
  {
   "cell_type": "code",
   "execution_count": 51,
   "metadata": {},
   "outputs": [
    {
     "name": "stdout",
     "output_type": "stream",
     "text": [
      "0.28751238099868115\n",
      "Accuracy :  0.12\n"
     ]
    }
   ],
   "source": [
    "pred = predictions(nnparams,Xbias,InputLayerSize,HiddenLayerSize,NumLabels)\n",
    "print(NNCostfunction(nnparams,Xbias,y,InputLayerSize,HiddenLayerSize,NumLabels))\n",
    "print(\"Accuracy : \",accuracy(pred,y))"
   ]
  },
  {
   "cell_type": "code",
   "execution_count": null,
   "metadata": {},
   "outputs": [],
   "source": [
    "# Creting Numerical Gradient\n",
    "def Numgrad(J,thetas):\n",
    "    numgrad = np.zeros(thetas.shape)\n",
    "    perturb = np.zeros(thetas.shape)\n",
    "    e=1e-4\n",
    "    for i in thetas:\n",
    "        perturb[i] = e \n",
    "        loss1 = J[thetas-perturb]\n",
    "        loss2 = J[thetas+perturb]\n",
    "        numgrad[i] = (loss2-loss1)/(2*e)\n",
    "        perturb[i] = 0\n",
    "    \n",
    "    return numgrad\n",
    "\n",
    "costFunc = lambda p: NNCostfunction(p,Xbias,y,InputLayerSize,HiddenLayerSize,NumLabels)\n",
    "\n",
    "cost = costFunc(nnparams)\n",
    "numgrad = Numgrad(costFunc, nnparams);"
   ]
  }
 ],
 "metadata": {
  "kernelspec": {
   "display_name": "Python 3",
   "language": "python",
   "name": "python3"
  },
  "language_info": {
   "codemirror_mode": {
    "name": "ipython",
    "version": 3
   },
   "file_extension": ".py",
   "mimetype": "text/x-python",
   "name": "python",
   "nbconvert_exporter": "python",
   "pygments_lexer": "ipython3",
   "version": "3.7.6"
  }
 },
 "nbformat": 4,
 "nbformat_minor": 4
}
