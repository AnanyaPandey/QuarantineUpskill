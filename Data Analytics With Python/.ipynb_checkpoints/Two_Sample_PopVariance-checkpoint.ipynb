{
 "cells": [
  {
   "cell_type": "markdown",
   "metadata": {},
   "source": [
    "## Comparison of two population Variance"
   ]
  },
  {
   "cell_type": "markdown",
   "metadata": {},
   "source": [
    "#### In order to compare two population variance we use F test. \n",
    "Two populations are assumed to be independent and normally distributed"
   ]
  },
  {
   "cell_type": "markdown",
   "metadata": {},
   "source": [
    "* Lower Tail : \n",
    "    *  H0 : Sigma1<sup>2</sup> >= sigma2<sup>2</sup> \n",
    "    * H1 : Sigma1<sup>2</sup> < sigma2<sup>2</sup> \n",
    "\n",
    "* Upper Tail :\n",
    "    * H0 : Sigma1<sup>2</sup> <= sigma2<sup>2</sup> \n",
    "    * H1 : Sigma1<sup>2</sup> > sigma2<sup>2</sup> \n",
    "\n",
    "* Two Tail : \n",
    "    * H0 : Sigma1<sup>2</sup> = sigma2<sup>2</sup> \n",
    "    * H1 : Sigma1<sup>2</sup> != sigma2<sup>2</sup> \n"
   ]
  },
  {
   "cell_type": "markdown",
   "metadata": {},
   "source": [
    "F = S1<sup>2</sup>/S2<sup>2</sup>"
   ]
  },
  {
   "cell_type": "code",
   "execution_count": 3,
   "metadata": {},
   "outputs": [],
   "source": [
    "from scipy import stats as sts\n",
    "import math"
   ]
  },
  {
   "cell_type": "markdown",
   "metadata": {},
   "source": [
    "F of 0.95 with degree of  freedon 15 and 10 is Same as Reciprocal of F of 0.05 with degree of freedon 10 and 15 \n"
   ]
  },
  {
   "cell_type": "code",
   "execution_count": 4,
   "metadata": {},
   "outputs": [
    {
     "data": {
      "text/plain": [
       "0.3931252536255495"
      ]
     },
     "execution_count": 4,
     "metadata": {},
     "output_type": "execute_result"
    }
   ],
   "source": [
    "sts.f.ppf(q=0.05,dfn=15,dfd=10)"
   ]
  },
  {
   "cell_type": "code",
   "execution_count": 7,
   "metadata": {},
   "outputs": [
    {
     "data": {
      "text/plain": [
       "0.3931252536255495"
      ]
     },
     "execution_count": 7,
     "metadata": {},
     "output_type": "execute_result"
    }
   ],
   "source": [
    "1/sts.f.ppf(q=1-0.05,dfn=10,dfd=15)"
   ]
  },
  {
   "cell_type": "markdown",
   "metadata": {},
   "source": [
    "### Example : Compare population variances "
   ]
  },
  {
   "cell_type": "code",
   "execution_count": 9,
   "metadata": {},
   "outputs": [],
   "source": [
    "X = [3,7,25,10,15,6,12,25,15,7]\n",
    "Y = [48,44,38,33,21,20,12,1,18]"
   ]
  },
  {
   "cell_type": "code",
   "execution_count": 12,
   "metadata": {},
   "outputs": [],
   "source": [
    "import numpy as np\n",
    "F = np.var(X)/np.var(Y)\n",
    "dfn = len(X) -1 \n",
    "dfd = len(Y) -1"
   ]
  },
  {
   "cell_type": "code",
   "execution_count": 15,
   "metadata": {},
   "outputs": [
    {
     "data": {
      "text/plain": [
       "0.024589972866202486"
      ]
     },
     "execution_count": 15,
     "metadata": {},
     "output_type": "execute_result"
    }
   ],
   "source": [
    "p_val = sts.f.cdf(F,dfn,dfd)\n",
    "p_val"
   ]
  },
  {
   "cell_type": "markdown",
   "metadata": {},
   "source": [
    "Since o.o24 < 0.05 It is good idea to reject the null hypothesis hence there is a significant diffeence between the two population variances "
   ]
  },
  {
   "cell_type": "code",
   "execution_count": null,
   "metadata": {},
   "outputs": [],
   "source": []
  }
 ],
 "metadata": {
  "kernelspec": {
   "display_name": "Python 3",
   "language": "python",
   "name": "python3"
  },
  "language_info": {
   "codemirror_mode": {
    "name": "ipython",
    "version": 3
   },
   "file_extension": ".py",
   "mimetype": "text/x-python",
   "name": "python",
   "nbconvert_exporter": "python",
   "pygments_lexer": "ipython3",
   "version": "3.7.3"
  }
 },
 "nbformat": 4,
 "nbformat_minor": 2
}
