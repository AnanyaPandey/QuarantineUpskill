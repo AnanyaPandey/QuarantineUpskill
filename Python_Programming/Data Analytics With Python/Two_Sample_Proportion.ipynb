{
 "cells": [
  {
   "cell_type": "markdown",
   "metadata": {},
   "source": [
    "Two Sample proportion is when we have two samples and we have categorical values to compare the mean of the proportions"
   ]
  },
  {
   "cell_type": "markdown",
   "metadata": {},
   "source": [
    "** Consider an Example ** "
   ]
  },
  {
   "cell_type": "markdown",
   "metadata": {},
   "source": [
    "An americal scientist claims to develop a medication for depression which is significantly working better than the placebo.\n",
    "An experiment is conducted on 200 patients suffering with depression. Patients are randomly assigned to two groups os 100 Each"
   ]
  },
  {
   "cell_type": "markdown",
   "metadata": {},
   "source": [
    "One group received placebo and other recieved the new medication claimed to be better. After EIGHT weeks results were tested. 19 placebo showed improovement whereas 27 of the medication group showed improovement. "
   ]
  },
  {
   "cell_type": "markdown",
   "metadata": {},
   "source": [
    "Is the new treatment significantly better than the placebo. "
   ]
  },
  {
   "cell_type": "code",
   "execution_count": 9,
   "metadata": {},
   "outputs": [],
   "source": [
    "p1cap = 27/100\n",
    "p2cap = 19/100\n",
    "pcap = (19 + 27) / ( 100+100 )\n",
    "n1 = n2 = 100"
   ]
  },
  {
   "cell_type": "code",
   "execution_count": 3,
   "metadata": {},
   "outputs": [],
   "source": [
    "# H0 : P1 = P2 \n",
    "# H1 : P1 != P2 "
   ]
  },
  {
   "cell_type": "code",
   "execution_count": 4,
   "metadata": {},
   "outputs": [],
   "source": [
    "import scipy.stats as sts \n",
    "import math"
   ]
  },
  {
   "cell_type": "code",
   "execution_count": 19,
   "metadata": {},
   "outputs": [],
   "source": [
    "def two_sample_prop(p1,p2,n1,n2):\n",
    "# Since we assumed P1 = P2 we calculate pooled variance\n",
    "# p1 and p2 are sample proportions same as p1cap p2cap\n",
    "\n",
    "    p_pool = (p1*n1 + p2*n2) / (n1+n2)\n",
    "    x = p_pool*(1-p_pool)/n1 + p_pool*(1-p_pool)/n2\n",
    "    s = math.sqrt(x)\n",
    "    z = ( (p1 - p2) - 0 ) / (s)\n",
    "    if z > 0 :\n",
    "        p_val = 1- sts.norm.cdf(z)\n",
    "    else :\n",
    "        p_val = sts.norm.cdf(z)\n",
    "    return(z,p_val*2)\n"
   ]
  },
  {
   "cell_type": "code",
   "execution_count": 21,
   "metadata": {},
   "outputs": [
    {
     "data": {
      "text/plain": [
       "(1.3442056254198995, 0.17888190308175567)"
      ]
     },
     "execution_count": 21,
     "metadata": {},
     "output_type": "execute_result"
    }
   ],
   "source": [
    "two_sample_prop(p1cap,p2cap,n1,n2)"
   ]
  },
  {
   "cell_type": "code",
   "execution_count": 22,
   "metadata": {},
   "outputs": [
    {
     "data": {
      "text/plain": [
       "0.9105590484591222"
      ]
     },
     "execution_count": 22,
     "metadata": {},
     "output_type": "execute_result"
    }
   ],
   "source": [
    "sts.norm.cdf(1.3442056254198995)"
   ]
  },
  {
   "cell_type": "markdown",
   "metadata": {},
   "source": [
    "Since 0.91 > 0.17 We cannot reject the Null Hypothessis. Therefore threre are not much proof to tell that the new medical treatment is better than the placebo.\n"
   ]
  },
  {
   "cell_type": "code",
   "execution_count": 16,
   "metadata": {},
   "outputs": [
    {
     "name": "stderr",
     "output_type": "stream",
     "text": [
      "'[Title]' is not recognized as an internal or external command,\n",
      "operable program or batch file.\n"
     ]
    }
   ],
   "source": []
  },
  {
   "cell_type": "code",
   "execution_count": null,
   "metadata": {},
   "outputs": [],
   "source": []
  }
 ],
 "metadata": {
  "kernelspec": {
   "display_name": "Python 3",
   "language": "python",
   "name": "python3"
  },
  "language_info": {
   "codemirror_mode": {
    "name": "ipython",
    "version": 3
   },
   "file_extension": ".py",
   "mimetype": "text/x-python",
   "name": "python",
   "nbconvert_exporter": "python",
   "pygments_lexer": "ipython3",
   "version": "3.7.3"
  }
 },
 "nbformat": 4,
 "nbformat_minor": 2
}
