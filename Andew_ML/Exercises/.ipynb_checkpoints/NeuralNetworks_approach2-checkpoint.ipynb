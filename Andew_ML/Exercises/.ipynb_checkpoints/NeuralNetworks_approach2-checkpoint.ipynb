{
 "cells": [
  {
   "cell_type": "code",
   "execution_count": 1,
   "metadata": {},
   "outputs": [],
   "source": [
    "import numpy as np\n",
    "import pandas as pd\n",
    "import matplotlib.pyplot as plt\n",
    "%matplotlib inline\n",
    "import seaborn as sns"
   ]
  },
  {
   "cell_type": "code",
   "execution_count": 2,
   "metadata": {},
   "outputs": [],
   "source": [
    "pd.set_option('display.max_columns', None)\n",
    "pd.set_option('display.max_rows', 150)\n",
    "pd.set_option('display.max_seq_items', None)\n",
    "sns.set_context('notebook')\n",
    "sns.set_style('darkgrid')"
   ]
  },
  {
   "cell_type": "code",
   "execution_count": 3,
   "metadata": {},
   "outputs": [
    {
     "name": "stdout",
     "output_type": "stream",
     "text": [
      "dict_keys(['__header__', '__version__', '__globals__', 'X', 'y'])\n",
      "Shape of X (5000, 400)\n",
      "Shape of y (5000, 1)\n"
     ]
    }
   ],
   "source": [
    "from scipy.io import loadmat\n",
    "traindata = loadmat('data/ex4data1.mat')\n",
    "print(traindata.keys())\n",
    "# Let X and y be independent and dependent variable\n",
    "X = traindata['X']\n",
    "y = traindata['y']\n",
    "\n",
    "\n",
    "print(\"Shape of X\",X.shape)\n",
    "print(\"Shape of y\",y.shape)"
   ]
  },
  {
   "cell_type": "markdown",
   "metadata": {},
   "source": [
    "### Visualizing the Data"
   ]
  },
  {
   "cell_type": "code",
   "execution_count": 4,
   "metadata": {},
   "outputs": [],
   "source": [
    "import matplotlib.image as mpimg\n",
    "def PlotNumbers(X,Nrows=4):\n",
    "    if Nrows > 100 :\n",
    "        print(\"Too Large to Display\")\n",
    "        return\n",
    "    nrow = int(np.sqrt(Nrows))\n",
    "    ncol = int(np.sqrt(Nrows))\n",
    "    m = X.shape[0] \n",
    "    fig,axis = plt.subplots(nrow,ncol,figsize=(5,5))\n",
    "    for i in range(ncol):\n",
    "        for j in range(ncol):\n",
    "            axis[i,j].imshow(X[np.random.randint(0,m),:].reshape(20,20,order=\"F\"))"
   ]
  },
  {
   "cell_type": "code",
   "execution_count": 5,
   "metadata": {},
   "outputs": [
    {
     "data": {
      "image/png": "[encoded data removed]",
      "text/plain": [
       "<Figure size 360x360 with 9 Axes>"
      ]
     },
     "metadata": {},
     "output_type": "display_data"
    }
   ],
   "source": [
    "PlotNumbers(X,9)"
   ]
  },
  {
   "cell_type": "markdown",
   "metadata": {},
   "source": [
    "### Model Representation"
   ]
  },
  {
   "cell_type": "code",
   "execution_count": 6,
   "metadata": {},
   "outputs": [],
   "source": [
    "#Introduce Bias \n",
    "X = np.c_[np.ones(X.shape[0]),X]\n",
    "\n",
    "#Loading Weights\n",
    "datafile = 'data/ex4weights.mat'\n",
    "mat = loadmat( datafile )\n",
    "Theta1, Theta2 = mat['Theta1'], mat['Theta2']\n",
    "\n",
    "input_layer_size = 400\n",
    "hidden_layer_size = 25\n",
    "output_layer_size = 10 \n",
    "n_training_samples = X.shape[0]"
   ]
  },
  {
   "cell_type": "code",
   "execution_count": 7,
   "metadata": {},
   "outputs": [
    {
     "name": "stdout",
     "output_type": "stream",
     "text": [
      "Shape of Theta1 (25, 401)\n",
      "Shape of Theta2 (10, 26)\n"
     ]
    }
   ],
   "source": [
    "print(\"Shape of Theta1\",Theta1.shape)\n",
    "print(\"Shape of Theta2\",Theta2.shape)"
   ]
  },
  {
   "cell_type": "markdown",
   "metadata": {},
   "source": [
    "### Preparing for Flattening and Reshaping"
   ]
  },
  {
   "cell_type": "code",
   "execution_count": 8,
   "metadata": {},
   "outputs": [],
   "source": [
    "# 401x25 + 26x10 = 10285\n",
    "def FlattenParams(theta1,theta2):\n",
    "    return np.r_[theta1.ravel(),theta2.ravel()].reshape(((input_layer_size+1)*hidden_layer_size + \\\n",
    "        (hidden_layer_size+1)*output_layer_size),1)\n",
    "\n",
    "# Theta1 25x401 and Theta2 10x26\n",
    "def ReshapeParams(flattenedTheta):\n",
    "    Theta1 = flattenedTheta[0:(hidden_layer_size*(input_layer_size+1))].reshape(hidden_layer_size,input_layer_size+1)\n",
    "    Theta2 = flattenedTheta[(hidden_layer_size*(input_layer_size+1)):].reshape(output_layer_size,hidden_layer_size+1)\n",
    "    return [Theta1, Theta2]"
   ]
  },
  {
   "cell_type": "markdown",
   "metadata": {},
   "source": [
    "### Random Initialization of Parameters\n"
   ]
  },
  {
   "cell_type": "code",
   "execution_count": 9,
   "metadata": {},
   "outputs": [],
   "source": [
    "def Rand_InitializeTheta(lin,lout):\n",
    "    epsil = (6/(lin+lout))**1/2\n",
    "    W = np.random.rand(lin,lout+1) * (2*epsil) - epsil\n",
    "    return W"
   ]
  },
  {
   "cell_type": "code",
   "execution_count": 10,
   "metadata": {},
   "outputs": [],
   "source": [
    "def sigmoid(z):\n",
    "    return 1/(1 + np.exp(-1*z))\n",
    "\n",
    "def NNCostfunction(thetas,X,y,lamda=0):\n",
    "    \n",
    "    Theta1,Theta2 = ReshapeParams(thetas)\n",
    "    \n",
    "    m = X.shape[0]\n",
    "    J = 0 \n",
    "    y_matrix = pd.get_dummies(y.ravel())\n",
    "    \n",
    "    # Forward Propogation  OR Feed Forward\n",
    "    a1 = X # 5000x401\n",
    "    \n",
    "    z2 = sigmoid(np.dot(X,Theta1.T)) # 5000x401 * 401x25 = 5000x25\n",
    "    a2 = np.c_[np.ones(X.shape[0]),z2] # 5000x26\n",
    "    \n",
    "    z3 = np.dot(a2,Theta2.T) # 5000x10\n",
    "    a3 = sigmoid(z3) # 5000x10\n",
    "    \n",
    "    epsilon = 1e-5    \n",
    "    # If we use vectorized we do not need to sum explicitly\n",
    "    J = (-1/m) * np.sum(np.sum(y_matrix * np.log(a3+epsilon) + (1 - y_matrix) * np.log(1-a3+epsilon)))\n",
    "    #J = (-1/m) * np.sum(np.sum(np.log(a3)*y_matrix + np.log(1-a3)*(1 - y_matrix)))\n",
    "    #J = (-1/m) * np.sum( np.dot(np.log(a3).T,y_matrix) +  np.dot(np.log(1-a3).T,(1-y_matrix)))\n",
    "    J = J + (lamda/(2*m)) * (np.sum(np.square(Theta1[:,1:])) + np.sum(np.square(Theta2[:,1:])))\n",
    "    \n",
    "    return J"
   ]
  },
  {
   "cell_type": "markdown",
   "metadata": {},
   "source": [
    "### BackPropogation "
   ]
  },
  {
   "cell_type": "code",
   "execution_count": 11,
   "metadata": {},
   "outputs": [],
   "source": [
    "def SigmoidGradient(z):\n",
    "    return sigmoid(z)*(1-sigmoid(z))\n",
    "\n",
    "def Gradient(thetas,X,y,lamda=0):\n",
    "    Theta1,Theta2 = ReshapeParams(thetas)\n",
    "    \n",
    "    m = X.shape[0]\n",
    "    J = 0 \n",
    "    y_matrix = pd.get_dummies(y.ravel())\n",
    "    \n",
    "    # Forward Propogation  OR Feed Forward\n",
    "    a1 = X # 5000x401\n",
    "    \n",
    "    z2 = np.dot(X,Theta1.T) # 5000x401 * 401x25 = 5000x25\n",
    "    a2 = np.c_[np.ones(X.shape[0]),sigmoid(z2)] # 5000x26\n",
    "    \n",
    "    z3 = np.dot(a2,Theta2.T) # 5000x10\n",
    "    a3 = sigmoid(z3) # 5000x10\n",
    "    \n",
    "    ## Backpropogation \n",
    "    delta3 = a3 - np.array(y_matrix) #5000x10 \n",
    "    delta2 = delta3.dot(Theta2[:,1:]) * SigmoidGradient(z2) # 5000x10 * 10x25 = 5000x25 \n",
    "    delta1 = None # Since there can be no error with input layer \n",
    "    \n",
    "    Delta2 = delta3.T.dot(a2) # 10x5000* 5000x26 = 10x26\n",
    "    Delta1 = delta2.T.dot(a1) # 25x5000 * 5000x401 = 25x401\n",
    "    \n",
    "    # For Both Theta1 and Theta2 do not update the Theta0 i.e Theta associated with bias.\n",
    "    # Since REgularization does not affect Theta0.\n",
    "    \n",
    "    Theta1_grad = (1 / m) * Delta1\n",
    "    Theta1_grad[:, 1:] = Theta1_grad[:, 1:] + (lamda / m) * Theta1[:, 1:]\n",
    "    \n",
    "    Theta2_grad = (1 / m) * Delta2\n",
    "    Theta2_grad[:, 1:] = Theta2_grad[:, 1:] + (lamda / m) * Theta2[:, 1:]\n",
    "    \n",
    "    return np.r_[Theta1_grad.ravel(),Theta2_grad.ravel()]\n"
   ]
  },
  {
   "cell_type": "markdown",
   "metadata": {},
   "source": [
    "### Gradient Checking "
   ]
  },
  {
   "cell_type": "code",
   "execution_count": 12,
   "metadata": {},
   "outputs": [],
   "source": [
    "def flattenX(myX):\n",
    "    return np.array(myX.flatten()).reshape((n_training_samples*(input_layer_size+1),1))\n",
    "\n",
    "def reshapeX(flattenedX):\n",
    "    return np.array(flattenedX).reshape((n_training_samples,input_layer_size+1))\n",
    "\n",
    "def checkGradient(theta1,theta2,D1,D2,myX,myy,mylambda=0):\n",
    "    myeps = 0.0001\n",
    "    flattened = FlattenParams(theta1,theta2)\n",
    "    flattenedDs = FlattenParams(D1,D2)\n",
    "    myX_flattened = flattenX(myX)\n",
    "    n_elems = len(flattened) \n",
    "    #Pick ten random elements, compute numerical gradient, compare to respective D's\n",
    "    for i in range(10):\n",
    "        x = int(np.random.rand()*n_elems)\n",
    "        epsvec = np.zeros((n_elems,1))\n",
    "        epsvec[x] = myeps\n",
    "        cost_high = NNCostfunction(flattened + epsvec,myX,myy,mylambda)\n",
    "        cost_low  = NNCostfunction(flattened - epsvec,myX,myy,mylambda)\n",
    "        mygrad = (cost_high - cost_low) / float(2*myeps)\n",
    "        print (\"Element: %d. Numerical Gradient = %f. BackProp Gradient = %f.\"%(x,mygrad,flattenedDs[x]))"
   ]
  },
  {
   "cell_type": "code",
   "execution_count": 13,
   "metadata": {},
   "outputs": [
    {
     "name": "stdout",
     "output_type": "stream",
     "text": [
      "0.28751238099868115\n",
      "Shape of Gradient (10285,)\n"
     ]
    }
   ],
   "source": [
    "thetas = FlattenParams(Theta1,Theta2)\n",
    "print(NNCostfunction(thetas,X,y))\n",
    "grads = Gradient(thetas,X,y)\n",
    "print(\"Shape of Gradient\",grads.shape)\n",
    "D1,D2 = ReshapeParams(grads)"
   ]
  },
  {
   "cell_type": "code",
   "execution_count": 14,
   "metadata": {},
   "outputs": [
    {
     "name": "stdout",
     "output_type": "stream",
     "text": [
      "Element: 3070. Numerical Gradient = -0.000206. BackProp Gradient = -0.000206.\n",
      "Element: 9956. Numerical Gradient = 0.000201. BackProp Gradient = 0.000201.\n",
      "Element: 8468. Numerical Gradient = 0.000001. BackProp Gradient = 0.000001.\n",
      "Element: 2564. Numerical Gradient = 0.000160. BackProp Gradient = 0.000161.\n",
      "Element: 8636. Numerical Gradient = -0.000175. BackProp Gradient = -0.000175.\n",
      "Element: 2908. Numerical Gradient = -0.000002. BackProp Gradient = -0.000002.\n",
      "Element: 8222. Numerical Gradient = 0.000068. BackProp Gradient = 0.000068.\n",
      "Element: 4006. Numerical Gradient = 0.000000. BackProp Gradient = 0.000000.\n",
      "Element: 9828. Numerical Gradient = -0.000225. BackProp Gradient = -0.000225.\n",
      "Element: 6168. Numerical Gradient = -0.000111. BackProp Gradient = -0.000108.\n"
     ]
    }
   ],
   "source": [
    "checkGradient(Theta1,Theta2,D1,D2,X,y)"
   ]
  },
  {
   "cell_type": "markdown",
   "metadata": {},
   "source": [
    "## Prediction and Accuracy"
   ]
  },
  {
   "cell_type": "code",
   "execution_count": 15,
   "metadata": {},
   "outputs": [],
   "source": [
    "def predictions(thetas,X):\n",
    "    Theta1,Theta2 = ReshapeParams(thetas)\n",
    "    m = X.shape[0]\n",
    "    h1 = sigmoid(np.dot(X,Theta1.T))\n",
    "    H1 = np.append(np.ones((m,1)),h1,axis=1)\n",
    "    h2 = sigmoid(np.dot(H1,Theta2.T))\n",
    "    pred = np.argmax(h2,axis=1)+1\n",
    "    return pred\n",
    "\n",
    "def accuracy(pred,y):\n",
    "    pred.shape = (pred.size,1)\n",
    "    return np.sum(pred == y)*100/float(y.shape[0])"
   ]
  },
  {
   "cell_type": "code",
   "execution_count": 16,
   "metadata": {},
   "outputs": [
    {
     "name": "stdout",
     "output_type": "stream",
     "text": [
      "0.28751238099868115\n",
      "Accuracy : 97.52 %\n"
     ]
    }
   ],
   "source": [
    "pred = predictions(thetas,X)\n",
    "print(NNCostfunction(thetas,X,y))\n",
    "print(\"Accuracy : {} %\".format(accuracy(pred,y)))"
   ]
  },
  {
   "cell_type": "markdown",
   "metadata": {},
   "source": [
    "### Learning Theta Using Gradient Descent / Scipy / FminCG"
   ]
  },
  {
   "cell_type": "code",
   "execution_count": 17,
   "metadata": {},
   "outputs": [
    {
     "name": "stdout",
     "output_type": "stream",
     "text": [
      "Optimization terminated successfully.\n",
      "         Current function value: 0.011421\n",
      "         Iterations: 181\n",
      "         Function evaluations: 652\n",
      "         Gradient evaluations: 652\n",
      "Accuracy : 100.0 %\n"
     ]
    }
   ],
   "source": [
    "from scipy.optimize import fmin_bfgs, fmin_cg\n",
    "lamda = 0.01\n",
    "maxIterations = 200\n",
    "Learnttheta = fmin_cg(NNCostfunction,thetas,fprime = Gradient,\n",
    "    args=(X,y,lamda), maxiter = maxIterations,disp = 1)\n",
    "pred = predictions(Learnttheta,X)\n",
    "print(\"Accuracy : {} %\".format(accuracy(pred,y)))"
   ]
  },
  {
   "cell_type": "code",
   "execution_count": 18,
   "metadata": {},
   "outputs": [
    {
     "name": "stdout",
     "output_type": "stream",
     "text": [
      "0.002391784973557313\n"
     ]
    }
   ],
   "source": [
    "print(NNCostfunction(Learnttheta,X,y))"
   ]
  },
  {
   "cell_type": "markdown",
   "metadata": {},
   "source": [
    "### Random Parameters"
   ]
  },
  {
   "cell_type": "code",
   "execution_count": 19,
   "metadata": {},
   "outputs": [
    {
     "data": {
      "text/plain": [
       "((25, 401), (10, 26))"
      ]
     },
     "execution_count": 19,
     "metadata": {},
     "output_type": "execute_result"
    }
   ],
   "source": [
    "Theta1 = Rand_InitializeTheta(25,400)\n",
    "Theta2 = Rand_InitializeTheta(10,25)\n",
    "Theta1.shape,Theta2.shape"
   ]
  },
  {
   "cell_type": "code",
   "execution_count": 20,
   "metadata": {},
   "outputs": [
    {
     "name": "stdout",
     "output_type": "stream",
     "text": [
      "Loss :  6.938412284421896\n",
      "Accuracy : 10.0 %\n"
     ]
    }
   ],
   "source": [
    "thetas = FlattenParams(Theta1,Theta2)\n",
    "print(\"Loss : \",NNCostfunction(thetas,X,y))\n",
    "pred = predictions(thetas,X)\n",
    "print(\"Accuracy : {} %\".format(accuracy(pred,y)))"
   ]
  },
  {
   "cell_type": "code",
   "execution_count": 21,
   "metadata": {},
   "outputs": [
    {
     "name": "stdout",
     "output_type": "stream",
     "text": [
      "Warning: Maximum number of iterations has been exceeded.\n",
      "         Current function value: 0.101684\n",
      "         Iterations: 100\n",
      "         Function evaluations: 286\n",
      "         Gradient evaluations: 286\n",
      "Loss :  0.04506507921867446\n",
      "Accuracy : 99.7 %\n"
     ]
    }
   ],
   "source": [
    "lamda = 0.09\n",
    "maxIterations = 100\n",
    "Learnttheta = fmin_cg(NNCostfunction,thetas,fprime = Gradient,\n",
    "    args=(X,y,lamda), maxiter = maxIterations,disp = 1)\n",
    "print(\"Loss : \",NNCostfunction(Learnttheta,X,y))\n",
    "pred = predictions(Learnttheta,X)\n",
    "print(\"Accuracy : {} %\".format(accuracy(pred,y)))"
   ]
  },
  {
   "cell_type": "code",
   "execution_count": null,
   "metadata": {},
   "outputs": [],
   "source": []
  },
  {
   "cell_type": "code",
   "execution_count": null,
   "metadata": {},
   "outputs": [],
   "source": []
  }
 ],
 "metadata": {
  "kernelspec": {
   "display_name": "Python 3",
   "language": "python",
   "name": "python3"
  },
  "language_info": {
   "codemirror_mode": {
    "name": "ipython",
    "version": 3
   },
   "file_extension": ".py",
   "mimetype": "text/x-python",
   "name": "python",
   "nbconvert_exporter": "python",
   "pygments_lexer": "ipython3",
   "version": "3.7.6"
  }
 },
 "nbformat": 4,
 "nbformat_minor": 4
}
