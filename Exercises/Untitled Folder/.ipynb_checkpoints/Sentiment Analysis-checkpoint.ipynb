{
 "cells": [
  {
   "cell_type": "code",
   "execution_count": 2,
   "metadata": {},
   "outputs": [],
   "source": [
    "# Description : This is a sentiment analysis for the Corona virus lockdown extension in twitter using python\n"
   ]
  },
  {
   "cell_type": "code",
   "execution_count": 5,
   "metadata": {},
   "outputs": [],
   "source": [
    "# import libraries\n",
    "import tweepy\n",
    "from textblob import TextBlob\n",
    "from wordcloud import WordCloud\n",
    "import pandas as pd\n",
    "import numpy as np\n",
    "import re \n",
    "import matplotlib.pyplot as plt\n",
    "plt.style.use('fivethirtyeight')"
   ]
  },
  {
   "cell_type": "code",
   "execution_count": 22,
   "metadata": {},
   "outputs": [],
   "source": [
    "# Load the Data\n",
    "\n",
    "consumerKey = 'bGqHM71VWjaQgqz1EW2IRTyFS'\n",
    "consumerSecret = 'HxUbT2rWSZpR33rE6mP6v7e0hPQsSh0SerREht5a3ffLQ7UY29'\n",
    "accessToken = '77588852-JlppvdNkSbrjXKTqUcZuje2x7m91R0enmH7jMkPUf'\n",
    "accessTokenSecret = 'Y5SR9zq0MZtIf7zD4kFExF5eMggJgcscR87IvxDkP322A'"
   ]
  },
  {
   "cell_type": "code",
   "execution_count": 23,
   "metadata": {},
   "outputs": [],
   "source": [
    "# Create the authentication object\n",
    "authenticate = tweepy.OAuthHandler(consumerKey,consumerSecret)\n",
    "\n",
    "# Set Authentication key and secret\n",
    "authenticate.set_access_token(accessToken,accessTokenSecret)\n",
    "\n",
    "# Createe the API object while passing the auth information \n",
    "api = tweepy.API(authenticate, wait_on_rate_limit=True)\n"
   ]
  },
  {
   "cell_type": "code",
   "execution_count": 24,
   "metadata": {},
   "outputs": [],
   "source": [
    "# Extracting tweets from particular user\n",
    "posts = api.user_timeline(screen_name = \"PMOIndia\",count = 100, lang =\"en\", tweet_mode = 'extended')\n"
   ]
  },
  {
   "cell_type": "code",
   "execution_count": 31,
   "metadata": {},
   "outputs": [
    {
     "name": "stdout",
     "output_type": "stream",
     "text": [
      "Showing last 5 tweets\n",
      "1)कोरोना वैश्विक महामारी से बनी स्थितियों के बीच,\n",
      "केंद्र और देशभर की राज्य सरकारें तेजी से काम कर रही है।\n",
      " \n",
      "रोजमर्रा की जिंदगी में लोगों को असुविधा न हो,\n",
      "इसके लिए निरंतर कोशिश कर रही हैं: PM @narendramodi #IndiaFightsCorona\n",
      "\n",
      "2)आप उन लोगों के लिए प्रार्थना करिए जो आपकी सोसायटी,\n",
      "आपके मोहल्लों,\n",
      "आपकी सड़कों,\n",
      "सार्वजनिक स्थानों को sanitize करने के काम में जुटे हैं,\n",
      "जिससे इस वायरस का नामो-निशान न रहे: PM @narendramodi #IndiaFightsCorona\n",
      "\n",
      "3)उन डॉक्टर्स,\n",
      "उन नर्सेस,\n",
      "पैरा-मेडिकल स्टाफ, pathologists के बारे में सोचिए,\n",
      "जो इस महामारी से एक-एक जीवन को बचाने के लिए,\n",
      "दिन रात अस्पताल में काम कर रहे हैं: PM @narendramodi #IndiaFightsCorona\n",
      "\n",
      "4)साथियों,\n",
      "ये धैर्य और अनुशासन की घड़ी है।\n",
      " \n",
      "जब तक देश में lockdown की स्थिति है,\n",
      "हमें अपना संकल्प निभाना है,\n",
      "अपना वचन निभाना है: PM @narendramodi #IndiaFightsCorona\n",
      "\n",
      "5)भारत आज उस स्टेज पर है जहां हमारे आज के एक्शन तय करेंगे कि इस बड़ी आपदा के प्रभाव को हम कितना कम कर सकते हैं।\n",
      " \n",
      "ये समय हमारे संकल्प को\n",
      "बार-बार मजबूत करने का है: PM @narendramodi #IndiaFightsCorona\n",
      "\n"
     ]
    }
   ],
   "source": [
    "# Printing last 5 tweets from this account \n",
    "i=1\n",
    "print('Showing last 5 tweets')\n",
    "for tweet in posts[-5:]:\n",
    "    print(str(i) + ')'+tweet.full_text + '\\n')\n",
    "    i+=1"
   ]
  },
  {
   "cell_type": "code",
   "execution_count": 33,
   "metadata": {},
   "outputs": [
    {
     "data": {
      "text/html": [
       "<div>\n",
       "<style scoped>\n",
       "    .dataframe tbody tr th:only-of-type {\n",
       "        vertical-align: middle;\n",
       "    }\n",
       "\n",
       "    .dataframe tbody tr th {\n",
       "        vertical-align: top;\n",
       "    }\n",
       "\n",
       "    .dataframe thead th {\n",
       "        text-align: right;\n",
       "    }\n",
       "</style>\n",
       "<table border=\"1\" class=\"dataframe\">\n",
       "  <thead>\n",
       "    <tr style=\"text-align: right;\">\n",
       "      <th></th>\n",
       "      <th>Tweets</th>\n",
       "    </tr>\n",
       "  </thead>\n",
       "  <tbody>\n",
       "    <tr>\n",
       "      <th>0</th>\n",
       "      <td>PM @narendramodi also directed the concerned g...</td>\n",
       "    </tr>\n",
       "    <tr>\n",
       "      <th>1</th>\n",
       "      <td>PM @narendramodi reviewed countrywide prepared...</td>\n",
       "    </tr>\n",
       "    <tr>\n",
       "      <th>2</th>\n",
       "      <td>PM @narendramodi chaired a joint meeting of th...</td>\n",
       "    </tr>\n",
       "    <tr>\n",
       "      <th>3</th>\n",
       "      <td>हमारे यहां कहा गया है-\\n \\nउत्साहो\\nबलवान् आर्...</td>\n",
       "    </tr>\n",
       "    <tr>\n",
       "      <th>4</th>\n",
       "      <td>Social Distancing की लक्ष्मण रेखा को कभी भी ला...</td>\n",
       "    </tr>\n",
       "  </tbody>\n",
       "</table>\n",
       "</div>"
      ],
      "text/plain": [
       "                                              Tweets\n",
       "0  PM @narendramodi also directed the concerned g...\n",
       "1  PM @narendramodi reviewed countrywide prepared...\n",
       "2  PM @narendramodi chaired a joint meeting of th...\n",
       "3  हमारे यहां कहा गया है-\\n \\nउत्साहो\\nबलवान् आर्...\n",
       "4  Social Distancing की लक्ष्मण रेखा को कभी भी ला..."
      ]
     },
     "execution_count": 33,
     "metadata": {},
     "output_type": "execute_result"
    }
   ],
   "source": [
    "# Create a dataframe called Tweets\n",
    "df = pd.DataFrame([tweet.full_text for tweet in posts], columns=['Tweets'])\n",
    "df.head()"
   ]
  },
  {
   "cell_type": "code",
   "execution_count": 39,
   "metadata": {},
   "outputs": [],
   "source": [
    "# Clean Text\n",
    "# Create a function to clean the texts\n",
    "\n",
    "def cleantext(text):\n",
    "    text = re.sub(r'@[A-Za-z0-9]+', '', text) # remote @mentiones\n",
    "    text = re.sub( r'#','',text) # remove # hastag\n",
    "    text = re.sub(r'RT[\\s]+', '', text) # Remove RT re tweets\n",
    "    text = re.sub(r'https?:\\/\\/\\S+','',text) # remove hyperlinks\n",
    "    return text"
   ]
  },
  {
   "cell_type": "code",
   "execution_count": 41,
   "metadata": {},
   "outputs": [],
   "source": [
    "df['Tweets'] = df['Tweets'].apply(cleantext)"
   ]
  },
  {
   "cell_type": "code",
   "execution_count": 42,
   "metadata": {},
   "outputs": [
    {
     "data": {
      "text/html": [
       "<div>\n",
       "<style scoped>\n",
       "    .dataframe tbody tr th:only-of-type {\n",
       "        vertical-align: middle;\n",
       "    }\n",
       "\n",
       "    .dataframe tbody tr th {\n",
       "        vertical-align: top;\n",
       "    }\n",
       "\n",
       "    .dataframe thead th {\n",
       "        text-align: right;\n",
       "    }\n",
       "</style>\n",
       "<table border=\"1\" class=\"dataframe\">\n",
       "  <thead>\n",
       "    <tr style=\"text-align: right;\">\n",
       "      <th></th>\n",
       "      <th>Tweets</th>\n",
       "    </tr>\n",
       "  </thead>\n",
       "  <tbody>\n",
       "    <tr>\n",
       "      <th>0</th>\n",
       "      <td>PM  also directed the concerned groups and off...</td>\n",
       "    </tr>\n",
       "    <tr>\n",
       "      <th>1</th>\n",
       "      <td>PM  reviewed countrywide preparedness regardin...</td>\n",
       "    </tr>\n",
       "    <tr>\n",
       "      <th>2</th>\n",
       "      <td>PM  chaired a joint meeting of the Empowered G...</td>\n",
       "    </tr>\n",
       "    <tr>\n",
       "      <th>3</th>\n",
       "      <td>हमारे यहां कहा गया है-\\n \\nउत्साहो\\nबलवान् आर्...</td>\n",
       "    </tr>\n",
       "    <tr>\n",
       "      <th>4</th>\n",
       "      <td>Social Distancing की लक्ष्मण रेखा को कभी भी ला...</td>\n",
       "    </tr>\n",
       "  </tbody>\n",
       "</table>\n",
       "</div>"
      ],
      "text/plain": [
       "                                              Tweets\n",
       "0  PM  also directed the concerned groups and off...\n",
       "1  PM  reviewed countrywide preparedness regardin...\n",
       "2  PM  chaired a joint meeting of the Empowered G...\n",
       "3  हमारे यहां कहा गया है-\\n \\nउत्साहो\\nबलवान् आर्...\n",
       "4  Social Distancing की लक्ष्मण रेखा को कभी भी ला..."
      ]
     },
     "execution_count": 42,
     "metadata": {},
     "output_type": "execute_result"
    }
   ],
   "source": [
    " df.head()"
   ]
  },
  {
   "cell_type": "code",
   "execution_count": null,
   "metadata": {},
   "outputs": [],
   "source": []
  }
 ],
 "metadata": {
  "kernelspec": {
   "display_name": "Python 3",
   "language": "python",
   "name": "python3"
  },
  "language_info": {
   "codemirror_mode": {
    "name": "ipython",
    "version": 3
   },
   "file_extension": ".py",
   "mimetype": "text/x-python",
   "name": "python",
   "nbconvert_exporter": "python",
   "pygments_lexer": "ipython3",
   "version": "3.7.3"
  }
 },
 "nbformat": 4,
 "nbformat_minor": 2
}
